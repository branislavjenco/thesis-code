{
 "cells": [
  {
   "cell_type": "code",
   "execution_count": 261,
   "metadata": {},
   "outputs": [],
   "source": [
    "import os\n",
    "import pandas as pd\n",
    "import matplotlib.pyplot as plt\n",
    "import numpy as np\n",
    "import glob\n",
    "plt.rcParams.update({'font.size': 30})\n",
    "\n",
    "datasets = {\n",
    "    \"CAPOD\": \"/scratch/users/branisj/CAPOD_sampled_1024/color/**/*.ply\",\n",
    "    \"s3dis\": \"/scratch/users/branisj/stanford_normal_1024/*.ply\",\n",
    "    \"blensor_no_noise\": \"/scratch/users/branisj/blensor_no_noise_normal_1024/*.ply\",\n",
    "    \"blensor\": \"/scratch/users/branisj/blensor_normal_1024/*.ply\"\n",
    "}"
   ]
  },
  {
   "cell_type": "code",
   "execution_count": 254,
   "metadata": {},
   "outputs": [],
   "source": [
    "def get_count(f):\n",
    "    found_count = False\n",
    "    while not found_count:\n",
    "        line = f.readline()\n",
    "        if line.startswith(b\"element vertex\"):\n",
    "            found_count = True\n",
    "    count = int(line.decode(\"utf-8\").split(\" \")[2])\n",
    "    return count\n",
    "\n",
    "def collect_counts(g):\n",
    "    counts = []\n",
    "    for filename in sorted(glob.glob(g)):\n",
    "        with open(filename, \"rb\") as f:\n",
    "            name = os.path.basename(f.name)\n",
    "            counts.append((get_count(f), name))\n",
    "    return counts\n",
    "        "
   ]
  },
  {
   "cell_type": "code",
   "execution_count": null,
   "metadata": {},
   "outputs": [],
   "source": [
    "\n",
    "df = pd.DataFrame()\n",
    "for dataset, g in datasets.items():\n",
    "    counts = collect_counts(g)\n",
    "    partial_df = pd.DataFrame([{\"dataset\": dataset, \"Point counts\": count, \"Room\": room } for count, room in counts])\n",
    "    df = pd.concat([df, partial_df])\n",
    "    \n",
    "dataset2label = {\n",
    "    \"CAPOD\": \"CAPOD\",\n",
    "    \"s3dis\": \"S3DIS\",\n",
    "    \"blensor_no_noise\": \"Virtual VLP-16 (no noise)\",\n",
    "    \"blensor\": \"Virtual VLP-16\"\n",
    "}\n",
    "\n",
    "\n",
    "fig, ax = plt.subplots(constrained_layout=True)\n",
    "fig.set_figwidth(24)\n",
    "fig.set_figheight(12)\n",
    "count = 0\n",
    "ax = df.groupby(\"dataset\", sort=False).boxplot(\n",
    "            subplots=False,\n",
    "            medianprops=dict(linestyle='-', linewidth=3, color=\"red\"),\n",
    "            boxprops=dict(linestyle='-', linewidth=3),\n",
    "            whiskerprops=dict(linestyle='-', linewidth=3),\n",
    "            capprops=dict(linestyle='-', linewidth=3),\n",
    "            showfliers=False,\n",
    "            showmeans=True,\n",
    "            grid=True)\n",
    "ax.set_ylabel(\"Number of points\")\n",
    "ax.set_xlabel(\"Dataset\")\n",
    "ax.set_title(\"\")\n",
    "ax.set_xticks(range(1, 5), labels=dataset2label.values())\n",
    "fig.suptitle(\"Point count statistics\")\n",
    "fig.savefig(\"plots/point_counts.png\", bbox_inches='tight', pad_inches=1)"
   ]
  },
  {
   "cell_type": "code",
   "execution_count": null,
   "metadata": {},
   "outputs": [],
   "source": []
  }
 ],
 "metadata": {
  "kernelspec": {
   "display_name": "Python 3",
   "language": "python",
   "name": "python3"
  },
  "language_info": {
   "codemirror_mode": {
    "name": "ipython",
    "version": 3
   },
   "file_extension": ".py",
   "mimetype": "text/x-python",
   "name": "python",
   "nbconvert_exporter": "python",
   "pygments_lexer": "ipython3",
   "version": "3.8.6"
  }
 },
 "nbformat": 4,
 "nbformat_minor": 4
}
