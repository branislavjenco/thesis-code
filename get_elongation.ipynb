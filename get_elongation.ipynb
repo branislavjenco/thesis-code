{
 "cells": [
  {
   "cell_type": "markdown",
   "metadata": {},
   "source": [
    "This notebook was used to obtain the elongation values for the rooms in the S3DIS dataset."
   ]
  },
  {
   "cell_type": "code",
   "execution_count": null,
   "metadata": {},
   "outputs": [],
   "source": [
    "import open3d as o3d\n",
    "import glob\n",
    "import argparse\n",
    "import numpy as np\n",
    "from pathlib import Path    \n"
   ]
  },
  {
   "cell_type": "code",
   "execution_count": null,
   "metadata": {},
   "outputs": [],
   "source": [
    "\n",
    "def get_bb(data):\n",
    "    pcd = o3d.geometry.PointCloud()\n",
    "    pcd.points = o3d.utility.Vector3dVector(data)\n",
    "    max_ = data.max(axis=0)\n",
    "    min_ = data.min(axis=0)\n",
    "    bb = pcd.get_oriented_bounding_box()\n",
    "    return bb\n",
    "\n",
    "def parse_crop_file(f):\n",
    "    return np.loadtxt(f, usecols = (0,1,2))  \n",
    "\n",
    "def get_elongation(bb):\n",
    "    sorted_extents = sorted(bb.extent)\n",
    "    # shortest axis over longest axis\n",
    "    return sorted_extents[0] / sorted_extents[-1]\n",
    "    \n"
   ]
  },
  {
   "cell_type": "code",
   "execution_count": null,
   "metadata": {},
   "outputs": [],
   "source": [
    "stanford_dir = \"/scratch/users/branisj/Stanford3dDataset_v1.2_Aligned_Version/\"\n",
    "areas = [f\"Area_{x}\" for x in range(1, 7)]\n",
    "with open(\"elongations.csv\", \"w\") as output_file:\n",
    "    output_file.write(\"room,elongation\\n\")\n",
    "    for area_number in range(1, 7):        \n",
    "        area_name = f\"Area_{area_number}\"\n",
    "        print(area_name)\n",
    "        area_glob = stanford_dir + area_name + \"/**/*.txt\"\n",
    "        files = sorted(glob.glob(area_glob))\n",
    "        for file in files:\n",
    "            print(f\"Processing {file}\")\n",
    "            data = None\n",
    "            with open(file) as f:\n",
    "                data = parse_crop_file(f)\n",
    "            bb = get_bb(data)\n",
    "            elongation = get_elongation(bb)\n",
    "            full_filename = area_name + \"_\" + Path(file).name.replace(\"txt\", \"ply\")\n",
    "            output_file.write(f\"{full_filename},{elongation}\\n\")\n"
   ]
  }
 ],
 "metadata": {
  "kernelspec": {
   "display_name": "Python 3",
   "language": "python",
   "name": "python3"
  },
  "language_info": {
   "codemirror_mode": {
    "name": "ipython",
    "version": 3
   },
   "file_extension": ".py",
   "mimetype": "text/x-python",
   "name": "python",
   "nbconvert_exporter": "python",
   "pygments_lexer": "ipython3",
   "version": "3.6.14"
  }
 },
 "nbformat": 4,
 "nbformat_minor": 4
}
