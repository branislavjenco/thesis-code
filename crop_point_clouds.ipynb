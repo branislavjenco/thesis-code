{
 "cells": [
  {
   "cell_type": "markdown",
   "id": "40c3da7f",
   "metadata": {},
   "source": [
    "# Exploring cropping point clouds based on the bounding box\n",
    "\n",
    "This file was used to explore how I can crop point clouds coming from Blensor scans using the bounding box of the particular room point cloud from the raw Stanford dataset, see section on PCC Arena compression in the thesis. This code was then moved to the crop_by_bounding_box.py script."
   ]
  },
  {
   "cell_type": "code",
   "execution_count": null,
   "id": "d6d45f13",
   "metadata": {},
   "outputs": [],
   "source": [
    "import open3d as o3d\n",
    "import glob\n",
    "import numpy as np"
   ]
  },
  {
   "cell_type": "code",
   "execution_count": null,
   "id": "8735a4f4",
   "metadata": {},
   "outputs": [],
   "source": [
    "pattern = \"/home/branislav/repos/thesis/s3dis_scans/*.pcd\"\n",
    "crop_dir = \"/home/branislav/Downloads/Stanford3dDataset_v1.2\"\n",
    "files = sorted(glob.glob(pattern))\n",
    "\n",
    "def crop_pcd(data):\n",
    "    pass\n",
    "\n",
    "def get_bb(data):\n",
    "    max_ = data.max(axis=0)\n",
    "    min_ = data.min(axis=0)\n",
    "    bb = o3d.geometry.AxisAlignedBoundingBox(min_bound=min_, max_bound=max_)\n",
    "    return bb\n",
    "\n",
    "def parse_crop_file(f):\n",
    "    lines = f.readlines()\n",
    "    data = [[float(x) for x in line.split(\" \")[:3]] for line in lines]\n",
    "    return np.array(data)\n",
    "\n",
    "def get_area_and_room(filename):\n",
    "    filename = filename.split(\"/\")[-1]\n",
    "    filename = filename.replace(\".pcd\", \"\")\n",
    "    area = filename[-1]\n",
    "    room = filename[:-2]\n",
    "    return area, room\n",
    "\n",
    "for filename in files[:1]:\n",
    "    pcd = o3d.io.read_point_cloud(filename)\n",
    "    area, room = get_area_and_room(filename)\n",
    "    crop_file = crop_dir + \"/\" + \"Area_\" + area + \"/\" + room + \"/\" + room + \".txt\"\n",
    "    data = None\n",
    "    with open(crop_file) as f:\n",
    "        data = parse_crop_file(f)\n",
    "    bb = get_bb(data)\n",
    "    cropped = pcd.crop(bb)\n",
    "\n",
    "    output_filename = filename.replace(\".pcd\", \".ply\")\n",
    "    o3d.io.write_point_cloud(output_filename, cropped)\n"
   ]
  },
  {
   "cell_type": "code",
   "execution_count": null,
   "id": "3691426b",
   "metadata": {},
   "outputs": [],
   "source": []
  },
  {
   "cell_type": "code",
   "execution_count": null,
   "id": "a7447c19",
   "metadata": {},
   "outputs": [],
   "source": []
  }
 ],
 "metadata": {
  "kernelspec": {
   "display_name": "Python 3",
   "language": "python",
   "name": "python3"
  },
  "language_info": {
   "codemirror_mode": {
    "name": "ipython",
    "version": 3
   },
   "file_extension": ".py",
   "mimetype": "text/x-python",
   "name": "python",
   "nbconvert_exporter": "python",
   "pygments_lexer": "ipython3",
   "version": "3.6.14"
  }
 },
 "nbformat": 4,
 "nbformat_minor": 5
}
