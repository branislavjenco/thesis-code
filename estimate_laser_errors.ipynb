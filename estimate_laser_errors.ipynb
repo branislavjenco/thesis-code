{
 "cells": [
  {
   "cell_type": "code",
   "execution_count": 1,
   "metadata": {},
   "outputs": [],
   "source": [
    "import matplotlib.pyplot as plt\n",
    "import numpy as np"
   ]
  },
  {
   "cell_type": "code",
   "execution_count": 2,
   "metadata": {},
   "outputs": [],
   "source": [
    "def load_measurement_file(name):\n",
    "    return np.loadtxt(name)"
   ]
  },
  {
   "cell_type": "code",
   "execution_count": 3,
   "metadata": {},
   "outputs": [],
   "source": [
    "laser_id_to_angle = {\n",
    "    0: -15,\n",
    "    1: 1,\n",
    "    2: -13,\n",
    "    3: 3,\n",
    "    4: -11,\n",
    "    5: 5,\n",
    "    6: -9,\n",
    "    7: 7,\n",
    "    8: -7,\n",
    "    9: 9,\n",
    "    10: -5,\n",
    "    11: 11,\n",
    "    12: -3,\n",
    "    13: 13,\n",
    "    14: -1,\n",
    "    15: 15\n",
    "}\n",
    "laser_angle_to_id = {y:x for x,y in laser_id_to_angle.items()}\n",
    "sorted_angles = sorted(laser_angle_to_id.keys())\n",
    "\n"
   ]
  },
  {
   "cell_type": "code",
   "execution_count": 21,
   "metadata": {},
   "outputs": [
    {
     "data": {
      "text/plain": [
       "[-15, -13, -11, -9, -7, -5, -3, -1, 1, 3, 5, 7, 9, 11, 13, 15]"
      ]
     },
     "execution_count": 21,
     "metadata": {},
     "output_type": "execute_result"
    }
   ],
   "source": [
    "sorted_angles"
   ]
  },
  {
   "cell_type": "code",
   "execution_count": 4,
   "metadata": {},
   "outputs": [],
   "source": [
    "ms = load_measurement_file(\"./pcds/error_measurements/distances/1m_1_distances_wall.txt\")"
   ]
  },
  {
   "cell_type": "code",
   "execution_count": 5,
   "metadata": {},
   "outputs": [
    {
     "data": {
      "text/plain": [
       "array([[ 1.27465e-02,  4.54609e-01,  9.38299e-01, -1.82794e-01,\n",
       "         1.00000e+00, -1.50000e+01],\n",
       "       [ 4.15826e-03,  4.60264e-01,  9.49794e-01,  1.03589e-01,\n",
       "         1.00000e+00,  1.00000e+00],\n",
       "       [ 3.65090e-03,  4.58821e-01,  9.46969e-01, -1.47784e-01,\n",
       "         1.00000e+00, -1.30000e+01],\n",
       "       ...,\n",
       "       [-3.79682e-04,  4.28109e-01,  9.72238e-01,  4.29877e-01,\n",
       "         1.00000e+00,  1.30000e+01],\n",
       "       [ 4.26412e-03,  4.23902e-01,  9.64791e-01,  1.67798e-01,\n",
       "         1.00000e+00, -1.00000e+00],\n",
       "       [-1.18531e-02,  4.33120e-01,  9.83295e-01,  4.74216e-01,\n",
       "         1.00000e+00,  1.50000e+01]])"
      ]
     },
     "execution_count": 5,
     "metadata": {},
     "output_type": "execute_result"
    }
   ],
   "source": [
    "ms"
   ]
  },
  {
   "cell_type": "code",
   "execution_count": 16,
   "metadata": {},
   "outputs": [],
   "source": [
    "def compute_laser_deviations(run):\n",
    "    deviations_per_laser = np.zeros(16)\n",
    "    for angle in sorted_angles:\n",
    "        # get distances and get their stddev per laser\n",
    "        distances_for_angle = run[np.where(run[:,5] == angle)][:, 0]\n",
    "        deviations_per_laser[laser_angle_to_id[angle]] = np.std(distances_for_angle)\n",
    "    return deviations_per_laser\n"
   ]
  },
  {
   "cell_type": "code",
   "execution_count": 19,
   "metadata": {},
   "outputs": [],
   "source": [
    "w"
   ]
  },
  {
   "cell_type": "code",
   "execution_count": 20,
   "metadata": {},
   "outputs": [],
   "source": [
    "np.savetxt(\"./pcds/error_measurements/distances/deviations_by_laser/1m_1_wall_stddevs.txt\", devs)"
   ]
  },
  {
   "cell_type": "code",
   "execution_count": null,
   "metadata": {},
   "outputs": [],
   "source": [
    "def avg_laser_data(measurements_):\n",
    "     for wall_dist in measurements_.keys():\n",
    "        measurements_[wall_dist][f\"angle_stddevs_wall_avg\"] = {}\n",
    "        measurements_[wall_dist][f\"angle_stddevs_floor_avg\"] = {}\n",
    "        for angle in sorted_angles:\n",
    "            acc = 0\n",
    "            for i in range(3):\n",
    "                acc = acc + measurements_[wall_dist][f\"angle_stddevs_wall_{i}\"][angle]\n",
    "            measurements_[wall_dist][f\"angle_stddevs_wall_avg\"][angle] = acc / 3.0\n",
    "        for angle in sorted_angles:\n",
    "            acc = 0\n",
    "            for i in range(3):\n",
    "                acc = acc + measurements_[wall_dist][f\"angle_stddevs_floor_{i}\"][angle]\n",
    "            measurements_[wall_dist][f\"angle_stddevs_floor_avg\"][angle] = acc / 3.0\n",
    "       "
   ]
  },
  {
   "cell_type": "code",
   "execution_count": null,
   "metadata": {},
   "outputs": [],
   "source": [
    "avg_laser_data(ms)"
   ]
  },
  {
   "cell_type": "code",
   "execution_count": null,
   "metadata": {},
   "outputs": [],
   "source": [
    "ms[\"3m\"][\"angle_stddevs_wall_avg\"]"
   ]
  },
  {
   "cell_type": "code",
   "execution_count": null,
   "metadata": {},
   "outputs": [],
   "source": [
    "for wall_dist in ms.keys():\n",
    "    plt.plot(list(ms[wall_dist][\"angle_stddevs_wall_avg\"].keys()), list(ms[wall_dist][\"angle_stddevs_wall_avg\"].values()))\n",
    "plt.xticks(sorted_angles)\n",
    "plt.legend(list(ms.keys()))\n",
    "plt.show()\n",
    "\n",
    "for wall_dist in ms.keys():\n",
    "    plt.plot(list(ms[wall_dist][\"angle_stddevs_floor_avg\"].keys()), list(ms[wall_dist][\"angle_stddevs_floor_avg\"].values()))\n",
    "plt.xticks(sorted_angles)\n",
    "plt.legend(list(ms.keys()))\n",
    "plt.show()\n",
    "\n",
    "    "
   ]
  },
  {
   "cell_type": "code",
   "execution_count": null,
   "metadata": {},
   "outputs": [],
   "source": [
    "for wall_dist in ms.keys():\n",
    "    reordered = [] \n",
    "    for key, val in list(ms[wall_dist][\"angle_stddevs_wall_avg\"].items()):\n",
    "        reordered.append(laser_angle_to_id())\n",
    "    plt.plot(list(ms[wall_dist][\"angle_stddevs_wall_avg\"].keys()), )\n",
    "plt.xticks(range(16))\n",
    "plt.legend(range(16))\n",
    "plt.show()\n",
    "\n",
    "for wall_dist in ms.keys():\n",
    "    plt.plot(list(ms[wall_dist][\"angle_stddevs_floor_avg\"].keys()), list(ms[wall_dist][\"angle_stddevs_floor_avg\"].values()))\n",
    "plt.xticks(range(16))\n",
    "plt.legend(range(16))\n",
    "plt.show()"
   ]
  },
  {
   "cell_type": "code",
   "execution_count": null,
   "metadata": {},
   "outputs": [],
   "source": [
    "dist_floor_corrected_files = [\"pcds/distances_with_correction_floor_1.txt\",\"pcds/distances_with_correction_floor_2.txt\", \"pcds/distances_with_correction_floor_3.txt\"]\n",
    "dist_wall_corrected_files = [\"pcds/distances_with_correction_wall_1.txt\",\"pcds/distances_with_correction_wall_2.txt\", \"pcds/distances_with_correction_wall_3.txt\"]\n",
    "dist_floor_uncorrected_files = [\"pcds/distances_without_correction_floor_1.txt\",\"pcds/distances_without_correction_floor_2.txt\", \"pcds/distances_without_correction_floor_3.txt\"]\n",
    "dist_wall_uncorrected_files = [\"pcds/distances_without_correction_wall_1.txt\",\"pcds/distances_without_correction_wall_2.txt\", \"pcds/distances_without_correction_wall_3.txt\"]\n",
    "\n",
    "dists_floor_corrected = [np.loadtxt(f) for f in dist_floor_corrected_files]\n",
    "dists_wall_corrected = [np.loadtxt(f) for f in dist_wall_corrected_files]\n",
    "\n",
    "dists_floor_ubcorrected = [np.loadtxt(f) for f in dist_floor_uncorrected_files]\n",
    "dists_wall_ubcorrected = [np.loadtxt(f) for f in dist_wall_uncorrected_files]"
   ]
  },
  {
   "cell_type": "code",
   "execution_count": null,
   "metadata": {},
   "outputs": [],
   "source": [
    "stddevs_floor_corrected = [2*np.std(x[:, 0]) for x in dists_floor_corrected]\n",
    "stddevs_wall_corrected = [2*np.std(x[:, 0]) for x in dists_wall_corrected]\n",
    "stddevs_floor_uncorrected = [2*np.std(x[:, 0]) for x in dists_floor_ubcorrected]\n",
    "stddevs_wall_uncorrected = [2*np.std(x[:, 0]) for x in dists_wall_ubcorrected]"
   ]
  },
  {
   "cell_type": "code",
   "execution_count": null,
   "metadata": {},
   "outputs": [],
   "source": [
    "np.mean(stddevs_floor_corrected)"
   ]
  },
  {
   "cell_type": "code",
   "execution_count": null,
   "metadata": {},
   "outputs": [],
   "source": [
    "np.mean(stddevs_wall_corrected)"
   ]
  },
  {
   "cell_type": "code",
   "execution_count": null,
   "metadata": {},
   "outputs": [],
   "source": [
    "np.mean(stddevs_floor_uncorrected)"
   ]
  },
  {
   "cell_type": "code",
   "execution_count": null,
   "metadata": {},
   "outputs": [],
   "source": [
    "np.mean(stddevs_wall_uncorrected)"
   ]
  },
  {
   "cell_type": "code",
   "execution_count": null,
   "metadata": {},
   "outputs": [],
   "source": [
    "index = [True] + [False]*4 + [True]\n",
    "pure_dists_floor_corrected = dists_floor_corrected[0][:, index]\n",
    "pure_dists_wall_corrected = dists_wall_corrected[0][:, index]\n",
    "pure_dists_floor_uncorrected = dists_floor_ubcorrected[0][:, index]\n",
    "pure_dists_wall_corrected = dists_wall_ubcorrected[0][:, index]"
   ]
  },
  {
   "cell_type": "code",
   "execution_count": null,
   "metadata": {},
   "outputs": [],
   "source": [
    "pure_dists_floor_corrected[300]"
   ]
  },
  {
   "cell_type": "code",
   "execution_count": null,
   "metadata": {},
   "outputs": [],
   "source": []
  },
  {
   "cell_type": "code",
   "execution_count": null,
   "metadata": {},
   "outputs": [],
   "source": [
    "plot_stddevs(dists_floor_ubcorrected[0])\n",
    "plot_stddevs(dists_floor_corrected[0])"
   ]
  }
 ],
 "metadata": {
  "kernelspec": {
   "display_name": "Python 3",
   "language": "python",
   "name": "python3"
  },
  "language_info": {
   "codemirror_mode": {
    "name": "ipython",
    "version": 3
   },
   "file_extension": ".py",
   "mimetype": "text/x-python",
   "name": "python",
   "nbconvert_exporter": "python",
   "pygments_lexer": "ipython3",
   "version": "3.6.9"
  }
 },
 "nbformat": 4,
 "nbformat_minor": 4
}
